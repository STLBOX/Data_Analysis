{
 "cells": [
  {
   "cell_type": "code",
   "execution_count": 74,
   "id": "81615181",
   "metadata": {},
   "outputs": [],
   "source": [
    "import pandas as pd\n",
    "import numpy as np\n",
    "import os\n",
    "\n",
    "def get_data(path,doc):\n",
    "    data = pd.read_excel(path)\n",
    "    # 需提取的字段包括：光伏板表面温度1,2   、 冷凝器侧出口温度、 散热器#2出水温度、 水箱#1上（下）部温度、  水箱#2上（下）部温度\n",
    "    # 水泵#1占空比、 水泵#2占空比、 水泵#3占空比、 水泵#4占空比\n",
    "    data_new = {}\n",
    "    data_new['光伏板表面温度'] = (((data['光伏板表面温度1'] + data['光伏板表面温度2'])/2).apply(lambda x: round(x,2))).to_list()\n",
    "    data_new['水箱#1水温'] = (((data['水箱#1上部温度'] + data['水箱#1下部温度'])/2).apply(lambda x: round(x,2))).to_list()\n",
    "    data_new['水箱#2水温'] = (((data['水箱#2上部温度'] + data['水箱#2下部温度'])/2).apply(lambda x: round(x,2))).to_list()\n",
    "    data_new['冷凝器出口水温'] = ((data['冷凝器侧出水温度']).apply(lambda x: round(x,2))).to_list()\n",
    "    data_new['散热器#2出口水温'] = ((data['散热器#2出水温度']).apply(lambda x: round(x,2))).to_list()\n",
    "    data_new['水泵#1占空比'] = ((data['水泵#1占空比']).apply(lambda x: round(x,2))).to_list()\n",
    "    data_new['水泵#2占空比'] = ((data['水泵#2占空比']).apply(lambda x: round(x,2))).to_list()\n",
    "    data_new['水泵#3占空比'] = ((data['水泵#3占空比']).apply(lambda x: round(x,2))).to_list()\n",
    "    data_new['水泵#4占空比'] = ((data['水泵#4占空比']).apply(lambda x: round(x,2))).to_list()\n",
    "    data_new['压缩机调频'] = ((data['压缩机调频']).apply(lambda x: round(x,2))).to_list()\n",
    "    data_new['光照强度'] = ((data['室外光照强度']).apply(lambda x: round(x,2))).to_list()\n",
    "    print(max(data_new['光照强度']))\n",
    "    save_path = os.path.join('E:\\研一课程\\综合能源协同控制\\IES课程大作业\\IES课程大作业\\实验数据\\实验小组2（20工况）', 'IES-' + doc.split('.')[0] + '.xlsx')\n",
    "    pd.DataFrame(data_new).to_excel(save_path, index=False)"
   ]
  },
  {
   "cell_type": "code",
   "execution_count": 75,
   "id": "492a1087",
   "metadata": {},
   "outputs": [
    {
     "name": "stdout",
     "output_type": "stream",
     "text": [
      "E:\\研一课程\\综合能源协同控制\\IES课程大作业\\IES课程大作业\\实验数据\\实验小组2（20工况）\\IES-光伏扰动-20.xlsx\n",
      "E:\\研一课程\\综合能源协同控制\\IES课程大作业\\IES课程大作业\\实验数据\\实验小组2（20工况）\\IES-压缩机20-50.xlsx\n",
      "E:\\研一课程\\综合能源协同控制\\IES课程大作业\\IES课程大作业\\实验数据\\实验小组2（20工况）\\IES-压缩机50-20.xlsx\n",
      "E:\\研一课程\\综合能源协同控制\\IES课程大作业\\IES课程大作业\\实验数据\\实验小组2（20工况）\\IES-水泵1-20-40.xlsx\n",
      "E:\\研一课程\\综合能源协同控制\\IES课程大作业\\IES课程大作业\\实验数据\\实验小组2（20工况）\\IES-水泵1-40-20.xlsx\n",
      "E:\\研一课程\\综合能源协同控制\\IES课程大作业\\IES课程大作业\\实验数据\\实验小组2（20工况）\\IES-水泵2-20-40.xlsx\n",
      "E:\\研一课程\\综合能源协同控制\\IES课程大作业\\IES课程大作业\\实验数据\\实验小组2（20工况）\\IES-水泵2-40-20.xlsx\n",
      "E:\\研一课程\\综合能源协同控制\\IES课程大作业\\IES课程大作业\\实验数据\\实验小组2（20工况）\\IES-水泵3-20-40.xlsx\n",
      "E:\\研一课程\\综合能源协同控制\\IES课程大作业\\IES课程大作业\\实验数据\\实验小组2（20工况）\\IES-水泵3-40-20.xlsx\n",
      "E:\\研一课程\\综合能源协同控制\\IES课程大作业\\IES课程大作业\\实验数据\\实验小组2（20工况）\\IES-水泵4-20-40.xlsx\n",
      "E:\\研一课程\\综合能源协同控制\\IES课程大作业\\IES课程大作业\\实验数据\\实验小组2（20工况）\\IES-水泵4-40-20.xlsx\n",
      "E:\\研一课程\\综合能源协同控制\\IES课程大作业\\IES课程大作业\\实验数据\\实验小组2（20工况）\\~$IES-压缩机50-20.xlsx\n",
      "110598\n",
      "25041\n",
      "29738\n",
      "E:\\研一课程\\综合能源协同控制\\IES课程大作业\\IES课程大作业\\实验数据\\实验小组2（20工况）\\压缩机50-20.xls\n",
      "14327\n",
      "13746\n",
      "18912\n",
      "21697\n",
      "27476\n",
      "38033\n",
      "70491\n",
      "46884\n"
     ]
    }
   ],
   "source": [
    "dir_list = os.listdir(r'E:\\研一课程\\综合能源协同控制\\IES课程大作业\\IES课程大作业\\实验数据\\实验小组2（20工况）')\n",
    "for doc in dir_list:\n",
    "    path = os.path.join('E:\\研一课程\\综合能源协同控制\\IES课程大作业\\IES课程大作业\\实验数据\\实验小组2（20工况）', doc)\n",
    "    try:\n",
    "        get_data(path,doc)\n",
    "    except:\n",
    "        print(path)"
   ]
  },
  {
   "cell_type": "code",
   "execution_count": null,
   "id": "4b29c402",
   "metadata": {},
   "outputs": [],
   "source": []
  }
 ],
 "metadata": {
  "kernelspec": {
   "display_name": "NHZN",
   "language": "python",
   "name": "nhzn"
  },
  "language_info": {
   "codemirror_mode": {
    "name": "ipython",
    "version": 3
   },
   "file_extension": ".py",
   "mimetype": "text/x-python",
   "name": "python",
   "nbconvert_exporter": "python",
   "pygments_lexer": "ipython3",
   "version": "3.8.5"
  }
 },
 "nbformat": 4,
 "nbformat_minor": 5
}
